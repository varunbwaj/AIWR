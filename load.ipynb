{
 "cells": [
  {
   "cell_type": "code",
   "execution_count": 1,
   "metadata": {},
   "outputs": [],
   "source": [
    "import os\n",
    "os.environ['TF_CPP_MIN_LOG_LEVEL'] = '3'\n",
    "os.environ[\"KMP_DUPLICATE_LIB_OK\"]=\"TRUE\"\n",
    "import tensorflow as tf\n",
    "from helper_functions import *\n",
    "import pandas as pd\n",
    "# importTensorflow(memory=4090)"
   ]
  },
  {
   "cell_type": "code",
   "execution_count": 2,
   "metadata": {},
   "outputs": [
    {
     "data": {
      "text/plain": [
       "'2.13.0'"
      ]
     },
     "execution_count": 2,
     "metadata": {},
     "output_type": "execute_result"
    }
   ],
   "source": [
    "tf.__version__"
   ]
  },
  {
   "cell_type": "code",
   "execution_count": 3,
   "metadata": {},
   "outputs": [
    {
     "name": "stderr",
     "output_type": "stream",
     "text": [
      "WARNING:absl:At this time, the v2.11+ optimizer `tf.keras.optimizers.RestoredOptimizer` runs slowly on M1/M2 Macs, please use the legacy Keras optimizer instead, located at `tf.keras.optimizers.legacy.RestoredOptimizer`.\n",
      "WARNING:absl:At this time, the v2.11+ optimizer `tf.keras.optimizers.Adam` runs slowly on M1/M2 Macs, please use the legacy Keras optimizer instead, located at `tf.keras.optimizers.legacy.Adam`.\n",
      "WARNING:absl:There is a known slowdown when using v2.11+ Keras optimizers on M1/M2 Macs. Falling back to the legacy Keras optimizer, i.e., `tf.keras.optimizers.legacy.Adam`.\n"
     ]
    },
    {
     "name": "stdout",
     "output_type": "stream",
     "text": [
      "Model: \"model_4\"\n",
      "_________________________________________________________________\n",
      " Layer (type)                Output Shape              Param #   \n",
      "=================================================================\n",
      " input_5 (InputLayer)        [(None, 1)]               0         \n",
      "                                                                 \n",
      " text_vectorization (TextVe  (None, 12)                0         \n",
      " ctorization)                                                    \n",
      "                                                                 \n",
      " embedding (Embedding)       (None, 12, 1024)          25600000  \n",
      "                                                                 \n",
      " bidirectional_6 (Bidirecti  (None, 12, 1024)          4724736   \n",
      " onal)                                                           \n",
      "                                                                 \n",
      " gru_11 (GRU)                (None, 128)               443136    \n",
      "                                                                 \n",
      " batch_normalization_2 (Bat  (None, 128)               512       \n",
      " chNormalization)                                                \n",
      "                                                                 \n",
      " dropout_2 (Dropout)         (None, 128)               0         \n",
      "                                                                 \n",
      " dense_4 (Dense)             (None, 101)               13029     \n",
      "                                                                 \n",
      "=================================================================\n",
      "Total params: 30781413 (117.42 MB)\n",
      "Trainable params: 30781157 (117.42 MB)\n",
      "Non-trainable params: 256 (1.00 KB)\n",
      "_________________________________________________________________\n"
     ]
    }
   ],
   "source": [
    "model_load = tf.keras.models.load_model('75_3_gru_one_hot')\n",
    "model_load.summary()"
   ]
  },
  {
   "cell_type": "code",
   "execution_count": null,
   "metadata": {},
   "outputs": [],
   "source": []
  },
  {
   "cell_type": "code",
   "execution_count": 4,
   "metadata": {},
   "outputs": [
    {
     "data": {
      "text/html": [
       "<div>\n",
       "<style scoped>\n",
       "    .dataframe tbody tr th:only-of-type {\n",
       "        vertical-align: middle;\n",
       "    }\n",
       "\n",
       "    .dataframe tbody tr th {\n",
       "        vertical-align: top;\n",
       "    }\n",
       "\n",
       "    .dataframe thead th {\n",
       "        text-align: right;\n",
       "    }\n",
       "</style>\n",
       "<table border=\"1\" class=\"dataframe\">\n",
       "  <thead>\n",
       "    <tr style=\"text-align: right;\">\n",
       "      <th></th>\n",
       "      <th>String</th>\n",
       "      <th>Class</th>\n",
       "    </tr>\n",
       "  </thead>\n",
       "  <tbody>\n",
       "    <tr>\n",
       "      <th>0</th>\n",
       "      <td>Rich and buttery delicacy recipes</td>\n",
       "      <td>foie_gras</td>\n",
       "    </tr>\n",
       "    <tr>\n",
       "      <th>1</th>\n",
       "      <td>Luxurious appetizer with duck liver</td>\n",
       "      <td>foie_gras</td>\n",
       "    </tr>\n",
       "    <tr>\n",
       "      <th>2</th>\n",
       "      <td>Indulgent gourmet dish preparation</td>\n",
       "      <td>foie_gras</td>\n",
       "    </tr>\n",
       "    <tr>\n",
       "      <th>3</th>\n",
       "      <td>Recipes for savory liver pâté</td>\n",
       "      <td>foie_gras</td>\n",
       "    </tr>\n",
       "    <tr>\n",
       "      <th>4</th>\n",
       "      <td>Delicate and decadent French cuisine ideas</td>\n",
       "      <td>foie_gras</td>\n",
       "    </tr>\n",
       "  </tbody>\n",
       "</table>\n",
       "</div>"
      ],
      "text/plain": [
       "                                       String      Class\n",
       "0           Rich and buttery delicacy recipes  foie_gras\n",
       "1         Luxurious appetizer with duck liver  foie_gras\n",
       "2          Indulgent gourmet dish preparation  foie_gras\n",
       "3               Recipes for savory liver pâté  foie_gras\n",
       "4  Delicate and decadent French cuisine ideas  foie_gras"
      ]
     },
     "execution_count": 4,
     "metadata": {},
     "output_type": "execute_result"
    }
   ],
   "source": [
    "df = pd.read_csv(\"queries.csv\")\n",
    "df.head()"
   ]
  },
  {
   "cell_type": "code",
   "execution_count": 5,
   "metadata": {},
   "outputs": [],
   "source": [
    "d = set()\n",
    "counter = -1\n",
    "l = []\n",
    "for thing in df.Class:\n",
    "    if thing in d:\n",
    "      l.append(counter)\n",
    "    else:\n",
    "        counter += 1\n",
    "        d.add(thing)\n",
    "        l.append(counter)"
   ]
  },
  {
   "cell_type": "code",
   "execution_count": 6,
   "metadata": {},
   "outputs": [],
   "source": [
    "class_list = []\n",
    "for x in df.Class:\n",
    "    if x not in class_list:\n",
    "        class_list.append(x)"
   ]
  },
  {
   "cell_type": "code",
   "execution_count": 7,
   "metadata": {},
   "outputs": [
    {
     "data": {
      "text/plain": [
       "['foie_gras', 'club_sandwich', 'cheese_plate', 'cup_cakes', 'garlic_bread']"
      ]
     },
     "execution_count": 7,
     "metadata": {},
     "output_type": "execute_result"
    }
   ],
   "source": [
    "class_list[:5]"
   ]
  },
  {
   "cell_type": "code",
   "execution_count": 8,
   "metadata": {},
   "outputs": [],
   "source": [
    "df['classEncode'] = l"
   ]
  },
  {
   "cell_type": "code",
   "execution_count": 9,
   "metadata": {},
   "outputs": [
    {
     "data": {
      "text/html": [
       "<div>\n",
       "<style scoped>\n",
       "    .dataframe tbody tr th:only-of-type {\n",
       "        vertical-align: middle;\n",
       "    }\n",
       "\n",
       "    .dataframe tbody tr th {\n",
       "        vertical-align: top;\n",
       "    }\n",
       "\n",
       "    .dataframe thead th {\n",
       "        text-align: right;\n",
       "    }\n",
       "</style>\n",
       "<table border=\"1\" class=\"dataframe\">\n",
       "  <thead>\n",
       "    <tr style=\"text-align: right;\">\n",
       "      <th></th>\n",
       "      <th>String</th>\n",
       "      <th>Class</th>\n",
       "      <th>classEncode</th>\n",
       "    </tr>\n",
       "  </thead>\n",
       "  <tbody>\n",
       "    <tr>\n",
       "      <th>936</th>\n",
       "      <td>Homemade dessert with layers of tender shortca...</td>\n",
       "      <td>strawberry_shortcake</td>\n",
       "      <td>37</td>\n",
       "    </tr>\n",
       "    <tr>\n",
       "      <th>1145</th>\n",
       "      <td>Recipes for delicious snails with shallots or ...</td>\n",
       "      <td>escargots</td>\n",
       "      <td>46</td>\n",
       "    </tr>\n",
       "    <tr>\n",
       "      <th>74</th>\n",
       "      <td>Sweet individual desserts for parties and events</td>\n",
       "      <td>cup_cakes</td>\n",
       "      <td>3</td>\n",
       "    </tr>\n",
       "    <tr>\n",
       "      <th>1275</th>\n",
       "      <td>Homemade fish and chips with a squeeze of lemon</td>\n",
       "      <td>fish_and_chips</td>\n",
       "      <td>51</td>\n",
       "    </tr>\n",
       "    <tr>\n",
       "      <th>434</th>\n",
       "      <td>Baking tutorials for making homemade red velve...</td>\n",
       "      <td>red_velvet_cake</td>\n",
       "      <td>17</td>\n",
       "    </tr>\n",
       "  </tbody>\n",
       "</table>\n",
       "</div>"
      ],
      "text/plain": [
       "                                                 String                 Class  \\\n",
       "936   Homemade dessert with layers of tender shortca...  strawberry_shortcake   \n",
       "1145  Recipes for delicious snails with shallots or ...             escargots   \n",
       "74     Sweet individual desserts for parties and events             cup_cakes   \n",
       "1275    Homemade fish and chips with a squeeze of lemon        fish_and_chips   \n",
       "434   Baking tutorials for making homemade red velve...       red_velvet_cake   \n",
       "\n",
       "      classEncode  \n",
       "936            37  \n",
       "1145           46  \n",
       "74              3  \n",
       "1275           51  \n",
       "434            17  "
      ]
     },
     "execution_count": 9,
     "metadata": {},
     "output_type": "execute_result"
    }
   ],
   "source": [
    "df = df.sample(frac = 1)\n",
    "df.head()"
   ]
  },
  {
   "cell_type": "code",
   "execution_count": 10,
   "metadata": {},
   "outputs": [],
   "source": [
    "from sklearn.model_selection import train_test_split\n",
    "X_train, X_test, y_train, y_test = train_test_split(df.String, df.classEncode, test_size=0.1, random_state=69)"
   ]
  },
  {
   "cell_type": "code",
   "execution_count": 11,
   "metadata": {},
   "outputs": [],
   "source": [
    "one_hot_encoded_train = tf.one_hot(y_train, depth=101)\n",
    "one_hot_encoded_test = tf.one_hot(y_test, depth=101)"
   ]
  },
  {
   "cell_type": "code",
   "execution_count": 12,
   "metadata": {},
   "outputs": [],
   "source": [
    "train_data_one_hot = tf.data.Dataset.from_tensor_slices((X_train, one_hot_encoded_train)).shuffle(1000).batch(64).prefetch(tf.data.AUTOTUNE)\n",
    "test_data_one_hot = tf.data.Dataset.from_tensor_slices((X_test, one_hot_encoded_test)).batch(64).prefetch(tf.data.AUTOTUNE)"
   ]
  },
  {
   "cell_type": "code",
   "execution_count": 13,
   "metadata": {},
   "outputs": [
    {
     "name": "stdout",
     "output_type": "stream",
     "text": [
      "4/4 [==============================] - 5s 374ms/step - loss: 0.3463 - accuracy: 0.9395\n"
     ]
    },
    {
     "data": {
      "text/plain": [
       "[0.34630459547042847, 0.9395161271095276]"
      ]
     },
     "execution_count": 13,
     "metadata": {},
     "output_type": "execute_result"
    }
   ],
   "source": [
    "model_load.evaluate(test_data_one_hot)"
   ]
  },
  {
   "cell_type": "code",
   "execution_count": 27,
   "metadata": {},
   "outputs": [
    {
     "name": "stdout",
     "output_type": "stream",
     "text": [
      "1/1 [==============================] - 0s 80ms/step\n"
     ]
    },
    {
     "data": {
      "text/plain": [
       "'fish_and_chips'"
      ]
     },
     "execution_count": 27,
     "metadata": {},
     "output_type": "execute_result"
    }
   ],
   "source": [
    "class_list[tf.argmax(model_load.predict(['']), axis=1).numpy()[0]]"
   ]
  },
  {
   "cell_type": "code",
   "execution_count": 30,
   "metadata": {},
   "outputs": [
    {
     "data": {
      "text/plain": [
       "['foie_gras',\n",
       " 'club_sandwich',\n",
       " 'cheese_plate',\n",
       " 'cup_cakes',\n",
       " 'garlic_bread',\n",
       " 'gnocchi',\n",
       " 'ice_cream',\n",
       " 'samosa',\n",
       " 'donuts',\n",
       " 'tuna_tartare',\n",
       " 'filet_mignon',\n",
       " 'seaweed_salad',\n",
       " 'french_toast',\n",
       " 'chicken_curry',\n",
       " 'shrimp_and_grits',\n",
       " 'steak',\n",
       " 'cheesecake',\n",
       " 'red_velvet_cake',\n",
       " 'waffles',\n",
       " 'churros',\n",
       " 'gyoza',\n",
       " 'lobster_roll_sandwich',\n",
       " 'huevos_rancheros',\n",
       " 'breakfast_burrito',\n",
       " 'grilled_cheese_sandwich',\n",
       " 'spaghetti_bolognese',\n",
       " 'falafel',\n",
       " 'poutine',\n",
       " 'greek_salad',\n",
       " 'beef_tartare',\n",
       " 'fried_calamari',\n",
       " 'guacamole',\n",
       " 'ravioli',\n",
       " 'lobster_bisque',\n",
       " 'beet_salad',\n",
       " 'risotto',\n",
       " 'crab_cakes',\n",
       " 'strawberry_shortcake',\n",
       " 'edamame',\n",
       " 'ceviche',\n",
       " 'hot_and_sour_soup',\n",
       " 'spring_rolls',\n",
       " 'sashimi',\n",
       " 'paella',\n",
       " 'clam_chowder',\n",
       " 'miso_soup',\n",
       " 'escargots',\n",
       " 'hot_dog',\n",
       " 'pulled_pork_sandwich',\n",
       " 'bruschetta',\n",
       " 'panna_cotta',\n",
       " 'fish_and_chips',\n",
       " 'pad_thai',\n",
       " 'tiramisu',\n",
       " 'takoyaki',\n",
       " 'macarons',\n",
       " 'apple_pie',\n",
       " 'cannoli',\n",
       " 'scallops',\n",
       " 'frozen_yogurt',\n",
       " 'chicken_quesadilla',\n",
       " 'mussels',\n",
       " 'beef_carpaccio',\n",
       " 'eggs_benedict',\n",
       " 'spaghetti_carbonara',\n",
       " 'omelette',\n",
       " 'sushi',\n",
       " 'chocolate_mousse',\n",
       " 'beignets',\n",
       " 'bibimbap',\n",
       " 'hummus',\n",
       " 'pork_chop',\n",
       " 'chicken_wings',\n",
       " 'grilled_salmon',\n",
       " 'chocolate_cake',\n",
       " 'tacos',\n",
       " 'hamburger',\n",
       " 'baby_back_ribs',\n",
       " 'pancakes',\n",
       " 'prime_rib',\n",
       " 'pizza',\n",
       " 'nachos',\n",
       " 'macaroni_and_cheese',\n",
       " 'bread_pudding',\n",
       " 'ramen',\n",
       " 'croque_madame',\n",
       " 'lasagna',\n",
       " 'peking_duck',\n",
       " 'deviled_eggs',\n",
       " 'french_fries',\n",
       " 'dumplings',\n",
       " 'fried_rice',\n",
       " 'french_onion_soup',\n",
       " 'pho',\n",
       " 'caprese_salad',\n",
       " 'oysters',\n",
       " 'baklava',\n",
       " 'creme_brulee',\n",
       " 'carrot_cake',\n",
       " 'onion_rings',\n",
       " 'caesar_salad']"
      ]
     },
     "execution_count": 30,
     "metadata": {},
     "output_type": "execute_result"
    }
   ],
   "source": [
    "class_list"
   ]
  }
 ],
 "metadata": {
  "kernelspec": {
   "display_name": "tf2.15",
   "language": "python",
   "name": "python3"
  },
  "language_info": {
   "codemirror_mode": {
    "name": "ipython",
    "version": 3
   },
   "file_extension": ".py",
   "mimetype": "text/x-python",
   "name": "python",
   "nbconvert_exporter": "python",
   "pygments_lexer": "ipython3",
   "version": "3.9.19"
  }
 },
 "nbformat": 4,
 "nbformat_minor": 2
}
