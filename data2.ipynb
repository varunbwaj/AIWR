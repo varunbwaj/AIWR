{
 "cells": [
  {
   "cell_type": "code",
   "execution_count": 5,
   "metadata": {},
   "outputs": [
    {
     "name": "stdout",
     "output_type": "stream",
     "text": [
      "Search queries generated and saved to 'dishes.txt'.\n"
     ]
    }
   ],
   "source": [
    "import itertools\n",
    "\n",
    "# Define the food class and related keywords for Caesar Salad\n",
    "dish_keywords = {\n",
    "    \"foie_gras\": [\"recipe\", \"best preparation\", \"serving suggestions\", \"cooking techniques\", \"pairings\"],\n",
    "    \"club_sandwich\": [\"classic recipe\", \"variations\", \"ingredients\", \"serving ideas\", \"homemade\"],\n",
    "    \"cheese_plate\": [\"selection guide\", \"pairing suggestions\", \"arrangement tips\", \"serving platter ideas\"],\n",
    "    \"cup_cakes\": [\"decorating ideas\", \"flavor variations\", \"baking tips\", \"frosting techniques\", \"homemade\"],\n",
    "    \"garlic_bread\": [\"recipe\", \"best bread types\", \"garlic butter preparation\", \"baking instructions\"],\n",
    "    \"gnocchi\": [\"homemade recipe\", \"potato varieties\", \"sauce pairings\", \"traditional methods\"],\n",
    "    \"ice_cream\": [\"homemade recipes\", \"flavor combinations\", \"serving suggestions\", \"topping ideas\"],\n",
    "    \"samosa\": [\"recipe\", \"filling variations\", \"folding techniques\", \"serving with chutney\"],\n",
    "    \"donuts\": [\"recipe\", \"glazing ideas\", \"filling options\", \"deep frying tips\"],\n",
    "    \"tuna_tartare\": [\"recipe\", \"best tuna cuts\", \"seasoning suggestions\", \"serving presentation\"],\n",
    "}\n",
    "\n",
    "\n",
    "# Generate search queries for Caesar Salad\n",
    "\n",
    "search_queries = []\n",
    "for food_class, combinations in dish_keywords.items():\n",
    "    # Generate all possible combinations of keywords\n",
    "    # combinations = itertools.product(*keywords)\n",
    "    query = \"\"\n",
    "    for combination in combinations:\n",
    "        # Combine the keywords into a search query\n",
    "        query1= \"\".join(combination)\n",
    "        query +=query1\n",
    "        # Add the food class to the beginning of the query\n",
    "\n",
    "    full_query = f\"{query},{food_class}\"\n",
    "    search_queries.append(full_query)\n",
    "\n",
    "# Save the generated search queries to a file\n",
    "with open(\"dishes.txt\", \"w\") as file:\n",
    "    file.write(\"\\n\".join(search_queries))\n",
    "\n",
    "print(\"Search queries generated and saved to 'dishes.txt'.\")\n"
   ]
  },
  {
   "cell_type": "code",
   "execution_count": 6,
   "metadata": {},
   "outputs": [
    {
     "name": "stdout",
     "output_type": "stream",
     "text": [
      "foie_gras: recipe, best preparation, serving suggestions, cooking techniques, pairings\n",
      "club_sandwich: classic recipe, variations, ingredients, serving ideas, homemade\n",
      "cheese_plate: selection guide, pairing suggestions, arrangement tips, serving platter ideas\n",
      "cup_cakes: decorating ideas, flavor variations, baking tips, frosting techniques, homemade\n",
      "garlic_bread: recipe, best bread types, garlic butter preparation, baking instructions\n",
      "gnocchi: homemade recipe, potato varieties, sauce pairings, traditional methods\n",
      "ice_cream: homemade recipes, flavor combinations, serving suggestions, topping ideas\n",
      "samosa: recipe, filling variations, folding techniques, serving with chutney\n",
      "donuts: recipe, glazing ideas, filling options, deep frying tips\n",
      "tuna_tartare: recipe, best tuna cuts, seasoning suggestions, serving presentation\n"
     ]
    }
   ],
   "source": [
    "for dish, keywords in dish_keywords.items():\n",
    "    joined_keywords = ', '.join(keywords)\n",
    "    print(f\"{dish}: {joined_keywords}\")"
   ]
  },
  {
   "cell_type": "code",
   "execution_count": 7,
   "metadata": {},
   "outputs": [
    {
     "name": "stdout",
     "output_type": "stream",
     "text": [
      "[('foie_gras', 'recipe'), ('foie_gras', 'best preparation'), ('foie_gras', 'serving suggestions'), ('foie_gras', 'cooking techniques'), ('foie_gras', 'pairings')]\n",
      "[('club_sandwich', 'classic recipe'), ('club_sandwich', 'variations'), ('club_sandwich', 'ingredients'), ('club_sandwich', 'serving ideas'), ('club_sandwich', 'homemade')]\n",
      "[('cheese_plate', 'selection guide'), ('cheese_plate', 'pairing suggestions'), ('cheese_plate', 'arrangement tips'), ('cheese_plate', 'serving platter ideas')]\n",
      "[('cup_cakes', 'decorating ideas'), ('cup_cakes', 'flavor variations'), ('cup_cakes', 'baking tips'), ('cup_cakes', 'frosting techniques'), ('cup_cakes', 'homemade')]\n",
      "[('garlic_bread', 'recipe'), ('garlic_bread', 'best bread types'), ('garlic_bread', 'garlic butter preparation'), ('garlic_bread', 'baking instructions')]\n",
      "[('gnocchi', 'homemade recipe'), ('gnocchi', 'potato varieties'), ('gnocchi', 'sauce pairings'), ('gnocchi', 'traditional methods')]\n",
      "[('ice_cream', 'homemade recipes'), ('ice_cream', 'flavor combinations'), ('ice_cream', 'serving suggestions'), ('ice_cream', 'topping ideas')]\n",
      "[('samosa', 'recipe'), ('samosa', 'filling variations'), ('samosa', 'folding techniques'), ('samosa', 'serving with chutney')]\n",
      "[('donuts', 'recipe'), ('donuts', 'glazing ideas'), ('donuts', 'filling options'), ('donuts', 'deep frying tips')]\n",
      "[('tuna_tartare', 'recipe'), ('tuna_tartare', 'best tuna cuts'), ('tuna_tartare', 'seasoning suggestions'), ('tuna_tartare', 'serving presentation')]\n"
     ]
    }
   ],
   "source": [
    "# Get the list of dishes\n",
    "dishes = list(dish_keywords.keys())\n",
    "\n",
    "# Create an n x n map (matrix) of the keywords\n",
    "map = [[(dish1, dish2) for dish2 in dish_keywords[dish1]] for dish1 in dishes]\n",
    "\n",
    "# Print the map\n",
    "for row in map:\n",
    "    print(row)"
   ]
  },
  {
   "cell_type": "code",
   "execution_count": 8,
   "metadata": {},
   "outputs": [
    {
     "name": "stdout",
     "output_type": "stream",
     "text": [
      "[('recipe', 'recipe'), ('recipe', 'best preparation'), ('recipe', 'serving suggestions'), ('recipe', 'cooking techniques'), ('recipe', 'pairings')]\n",
      "[('best preparation', 'recipe'), ('best preparation', 'best preparation'), ('best preparation', 'serving suggestions'), ('best preparation', 'cooking techniques'), ('best preparation', 'pairings')]\n",
      "[('serving suggestions', 'recipe'), ('serving suggestions', 'best preparation'), ('serving suggestions', 'serving suggestions'), ('serving suggestions', 'cooking techniques'), ('serving suggestions', 'pairings')]\n",
      "[('cooking techniques', 'recipe'), ('cooking techniques', 'best preparation'), ('cooking techniques', 'serving suggestions'), ('cooking techniques', 'cooking techniques'), ('cooking techniques', 'pairings')]\n",
      "[('pairings', 'recipe'), ('pairings', 'best preparation'), ('pairings', 'serving suggestions'), ('pairings', 'cooking techniques'), ('pairings', 'pairings')]\n"
     ]
    }
   ],
   "source": [
    "# Choose a dish\n",
    "dish = \"foie_gras\"\n",
    "\n",
    "# Get the keywords for the chosen dish\n",
    "keywords = dish_keywords[dish]\n",
    "\n",
    "# Create an n x n map (matrix) of the keywords\n",
    "map = [[(keyword1, keyword2) for keyword2 in keywords] for keyword1 in keywords]\n",
    "\n",
    "# Print the map\n",
    "for row in map:\n",
    "    print(row)"
   ]
  },
  {
   "cell_type": "code",
   "execution_count": null,
   "metadata": {},
   "outputs": [],
   "source": []
  }
 ],
 "metadata": {
  "kernelspec": {
   "display_name": "TF",
   "language": "python",
   "name": "python3"
  },
  "language_info": {
   "codemirror_mode": {
    "name": "ipython",
    "version": 3
   },
   "file_extension": ".py",
   "mimetype": "text/x-python",
   "name": "python",
   "nbconvert_exporter": "python",
   "pygments_lexer": "ipython3",
   "version": "3.8.16"
  }
 },
 "nbformat": 4,
 "nbformat_minor": 2
}
